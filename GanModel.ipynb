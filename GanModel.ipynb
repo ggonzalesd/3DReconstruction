{
  "cells": [
    {
      "cell_type": "code",
      "execution_count": null,
      "metadata": {
        "colab": {
          "base_uri": "https://localhost:8080/"
        },
        "id": "s23yb4fVwuzj",
        "outputId": "ef123d78-2906-4a03-bb91-06c198a1476e"
      },
      "outputs": [
        {
          "data": {
            "text/plain": [
              "<torch._C.Generator at 0x7f666fce6c10>"
            ]
          },
          "execution_count": 1,
          "metadata": {},
          "output_type": "execute_result"
        }
      ],
      "source": [
        "from google.colab import drive\n",
        "\n",
        "import torch\n",
        "from torch import nn\n",
        "from tqdm.auto import tqdm\n",
        "from torchvision import transforms\n",
        "from torchvision.datasets import MNIST\n",
        "from torchvision.utils import make_grid\n",
        "from torch.utils.data import DataLoader, TensorDataset\n",
        "import numpy as np\n",
        "import matplotlib.pyplot as plt\n",
        "\n",
        "import torch.nn as nn\n",
        "import torch.nn.functional as F\n",
        "\n",
        "project_seed = 2022\n",
        "torch.manual_seed(project_seed)"
      ]
    },
    {
      "cell_type": "code",
      "execution_count": null,
      "metadata": {
        "colab": {
          "base_uri": "https://localhost:8080/"
        },
        "id": "oAkCftvvNKTw",
        "outputId": "f465936b-9323-4de0-894b-8d57e14dcc07"
      },
      "outputs": [
        {
          "name": "stdout",
          "output_type": "stream",
          "text": [
            "Drive already mounted at /content/drive/; to attempt to forcibly remount, call drive.mount(\"/content/drive/\", force_remount=True).\n"
          ]
        }
      ],
      "source": [
        "drive.mount(\"/content/drive/\")"
      ]
    },
    {
      "cell_type": "code",
      "execution_count": null,
      "metadata": {
        "colab": {
          "base_uri": "https://localhost:8080/"
        },
        "id": "ivwYAdwN8HDF",
        "outputId": "18a91586-c702-4bb9-d265-db852460cf62"
      },
      "outputs": [
        {
          "name": "stdout",
          "output_type": "stream",
          "text": [
            "  % Total    % Received % Xferd  Average Speed   Time    Time     Time  Current\n",
            "                                 Dload  Upload   Total   Spent    Left  Speed\n",
            "100 24.5M  100 24.5M    0     0  82.4M      0 --:--:-- --:--:-- --:--:-- 82.4M\n",
            "  % Total    % Received % Xferd  Average Speed   Time    Time     Time  Current\n",
            "                                 Dload  Upload   Total   Spent    Left  Speed\n",
            "100 6400k  100 6400k    0     0  27.5M      0 --:--:-- --:--:-- --:--:-- 27.5M\n"
          ]
        }
      ],
      "source": [
        "!curl https://raw.githubusercontent.com/ggonzalesd/3DReconstruction/main/dataset.npy > dataset.npy\n",
        "!curl https://raw.githubusercontent.com/ggonzalesd/3DReconstruction/main/datasettest.npy > datasettest.npy"
      ]
    },
    {
      "cell_type": "code",
      "execution_count": null,
      "metadata": {
        "id": "kZqMb_Unp_Lc"
      },
      "outputs": [],
      "source": [
        "models = np.load(\"dataset.npy\", allow_pickle=True).item()\n",
        "modelstest = np.load(\"datasettest.npy\", allow_pickle=True).item()"
      ]
    },
    {
      "cell_type": "code",
      "execution_count": null,
      "metadata": {
        "id": "sy6nuSxW8KI6"
      },
      "outputs": [],
      "source": [
        "criterion = nn.BCEWithLogitsLoss()\n",
        "\n",
        "PATH = \"/content/drive/MyDrive/ml-project4/\"\n",
        "PATH_CHECKPOINTS_GEN = PATH + \"gen/\"\n",
        "PATH_CHECKPOINTS_DISC = PATH + \"disc/\"\n",
        "PATH_IMG = PATH + \"img/\"\n",
        "\n",
        "n_epochs = 550\n",
        "display_step = 7*7\n",
        "batch_size = 60\n",
        "lr = 0.00001\n",
        "#latent_dim = 12\n",
        "LAMBDA = 100\n",
        "device = 'cuda'\n",
        "\n",
        "models_x = [torch.from_numpy(np.array([model])*2 -1).float().to(device) for model in models['train']['x']]\n",
        "models_y = [torch.from_numpy(np.array([model])*2 -1).float().to(device) for model in models['train']['y']]\n",
        "\n",
        "modelst_x = [torch.from_numpy(np.array([model])*2 -1).float().to(device) for model in modelstest['test']['x']]\n",
        "modelst_y = [torch.from_numpy(np.array([model])*2 -1).float().to(device) for model in modelstest['test']['y']]\n",
        "\n",
        "dataloader = DataLoader(list(zip(models_x, models_y)), batch_size=batch_size, shuffle=True)"
      ]
    },
    {
      "cell_type": "code",
      "execution_count": null,
      "metadata": {
        "id": "pyrldLCBE7PH"
      },
      "outputs": [],
      "source": [
        "def display_disc(voxel_disc):\n",
        "    ax = plt.figure().add_subplot(projection='3d')\n",
        "    ax.voxels((voxel_disc>0.5) * (voxel_disc<0.7) , facecolors='red', alpha=0.1)\n",
        "    ax.voxels((voxel_disc>=0.7) * (voxel_disc<0.85) , facecolors='yellow', alpha=0.4)\n",
        "    ax.voxels((voxel_disc>=0.85) , facecolors='lime')\n",
        "    plt.show()"
      ]
    },
    {
      "cell_type": "code",
      "execution_count": null,
      "metadata": {
        "id": "h4sX7lioQUm6"
      },
      "outputs": [],
      "source": [
        "def plot_epoch(indata, fakedata, targetdata, save_=False, num=0):\n",
        "    fig=plt.figure()\n",
        "    fig.set_size_inches(6, 3)\n",
        "    ax1=fig.add_subplot(1,2,1,projection='3d')\n",
        "    ax2=fig.add_subplot(1,2,2,projection='3d')\n",
        "\n",
        "    ax1.set_title(\"Input\")\n",
        "    ax2.set_title(\"Fake\")\n",
        "\n",
        "    ax1.voxels(indata>0, facecolors='yellow')\n",
        "    ax2.voxels(fakedata>0, facecolors='red')\n",
        "    if save_:\n",
        "        plt.savefig(PATH_IMG + f\"out_{num}.png\")\n",
        "    else:\n",
        "        plt.show()"
      ]
    },
    {
      "cell_type": "code",
      "execution_count": null,
      "metadata": {
        "id": "xMQFoPdlRjcL"
      },
      "outputs": [],
      "source": [
        "def downsample(inchan, outchan, batch=True, kernel_size=4, stride=1):\n",
        "    out = nn.Sequential()\n",
        "    out.append(\n",
        "        nn.Conv3d(\n",
        "            inchan,\n",
        "            outchan,\n",
        "            kernel_size=kernel_size,\n",
        "            stride=stride,\n",
        "            bias=not batch\n",
        "        )\n",
        "    )\n",
        "    if batch:\n",
        "        out.append(nn.BatchNorm3d(outchan))\n",
        "    out.append(nn.LeakyReLU(negative_slope=0.02))\n",
        "    return out"
      ]
    },
    {
      "cell_type": "code",
      "execution_count": null,
      "metadata": {
        "id": "viBT0XoK1hEd"
      },
      "outputs": [],
      "source": [
        "def upsample(inchan, outchan, dropout=False, kernel_size=4, stride=1):\n",
        "    out = nn.Sequential()\n",
        "    out.append(\n",
        "        nn.ConvTranspose3d(\n",
        "            inchan,\n",
        "            outchan,\n",
        "            kernel_size=kernel_size,\n",
        "            stride=stride,\n",
        "            bias=False\n",
        "        )\n",
        "    )\n",
        "    out.append(nn.BatchNorm3d(outchan))\n",
        "    if dropout:\n",
        "        out.append(nn.Dropout3d(0.5))\n",
        "    out.append(nn.ReLU())\n",
        "    return out"
      ]
    },
    {
      "cell_type": "code",
      "execution_count": null,
      "metadata": {
        "id": "ElZr6MRp3krw"
      },
      "outputs": [],
      "source": [
        "class Generator(nn.Module):\n",
        "    def __init__(self):\n",
        "        super(Generator, self).__init__()\n",
        "        ff = 10\n",
        "\n",
        "        self.d1 = downsample(1, ff, batch=False)                     # 16, 29, 29, 29\n",
        "        self.d2 = downsample(ff, 2*ff)                               # 32, 26, 26, 26\n",
        "        self.d3 = downsample(2*ff, 4*ff, stride=2)                   # 64, 12, 12, 12\n",
        "        self.d4 = downsample(4*ff, 4*ff, stride=2)                   # 64,  5,  5,  5\n",
        "        self.d5 = downsample(4*ff, 4*ff, stride=2, batch=False)       # 64,  1,  1,  1\n",
        "\n",
        "        self.u1 = upsample(4*ff, 4*ff, dropout=False, kernel_size=5) # 64,  5,  5,  5\n",
        "        self.u2 = upsample(8*ff, 4*ff, dropout=False, stride=2)      # 64, 12, 12, 12\n",
        "        self.u3 = upsample(8*ff, 2*ff, stride=2)                     # 64, 26, 26, 26\n",
        "        self.u4 = upsample(4*ff, ff)                                  # 16, 29, 29, 29\n",
        "\n",
        "        self.out = nn.ConvTranspose3d(2*ff, 1, kernel_size=4)\n",
        "        self.act = nn.Tanh()\n",
        "    \n",
        "    def forward(self, x):\n",
        "        s = []\n",
        "\n",
        "        x = self.d1(x)\n",
        "        s.append(x)\n",
        "        x = self.d2(x)\n",
        "        s.append(x)\n",
        "        x = self.d3(x)\n",
        "        s.append(x)\n",
        "        x = self.d4(x)\n",
        "        s.append(x)\n",
        "        x = self.d5(x)\n",
        "\n",
        "        x = self.u1(x)\n",
        "        x = torch.cat((x, s[-1]), dim=1)\n",
        "        x = self.u2(x)\n",
        "        x = torch.cat((x, s[-2]), dim=1)\n",
        "        x = self.u3(x)\n",
        "        x = torch.cat((x, s[-3]), dim=1)\n",
        "        x = self.u4(x)\n",
        "        x = torch.cat((x, s[-4]), dim=1)\n",
        "\n",
        "        return self.act(self.out(x))"
      ]
    },
    {
      "cell_type": "code",
      "execution_count": null,
      "metadata": {
        "id": "h1G7DI3fAMgX"
      },
      "outputs": [],
      "source": [
        "class Discriminator(nn.Module):\n",
        "    def __init__(self):\n",
        "        super(Discriminator, self).__init__()\n",
        "        \n",
        "        self.d1 = downsample(2, 16, batch=False)\n",
        "        self.d2 = downsample(16, 32)\n",
        "        self.d3 = downsample(32, 64, stride=2)\n",
        "        self.d4 = downsample(64, 64, stride=2)\n",
        "        self.d5 = downsample(64, 64, stride=2)\n",
        "\n",
        "        self.out = nn.ConvTranspose3d(64, 1, kernel_size=4)\n",
        "        self.act = nn.Sigmoid()\n",
        "\n",
        "    def forward(self, x, y):\n",
        "        x = torch.cat((x, y), dim=1)\n",
        "\n",
        "        x = self.d1(x)\n",
        "        x = self.d2(x)\n",
        "        x = self.d3(x)\n",
        "        x = self.d4(x)\n",
        "        x = self.d5(x)\n",
        "\n",
        "        return self.act(self.out(x))"
      ]
    },
    {
      "cell_type": "code",
      "execution_count": null,
      "metadata": {
        "id": "14R0Ib7iGp2i"
      },
      "outputs": [],
      "source": [
        "def get_disc_loss(criterion, disc_real_out, disc_fake_out):\n",
        "    disc_real_loss = criterion(disc_real_out, torch.ones_like(disc_real_out))\n",
        "    disc_fake_loss = criterion(disc_fake_out, torch.zeros_like(disc_fake_out))\n",
        "    \n",
        "    return  (disc_fake_loss + disc_real_loss) / 2"
      ]
    },
    {
      "cell_type": "code",
      "execution_count": null,
      "metadata": {
        "id": "PGD0ExLVHjZo"
      },
      "outputs": [],
      "source": [
        "def get_gen_loss(criterion, disc_real_out, disc_fake_out, target, fake, lambda_):\n",
        "    disc_fake_loss = criterion(disc_fake_out, torch.ones_like(disc_fake_out))\n",
        "    target_loss = torch.mean(torch.abs(target - fake))\n",
        "    \n",
        "    return  disc_fake_loss + lambda_*target_loss"
      ]
    },
    {
      "cell_type": "code",
      "execution_count": null,
      "metadata": {
        "id": "wzsRf-OmyXBf"
      },
      "outputs": [],
      "source": [
        "# Load Model from Drive\n",
        "gen = Generator().to(device)\n",
        "disc = Discriminator().to(device)\n",
        "\n",
        "gen.load_state_dict(torch.load(PATH + \"gen.pth\"))\n",
        "disc.load_state_dict(torch.load(PATH + \"disc.pth\"))\n",
        "\n",
        "gen_opt = torch.optim.Adam(gen.parameters(), lr=lr)\n",
        "disc_opt = torch.optim.Adam(disc.parameters(), lr=lr)"
      ]
    },
    {
      "cell_type": "code",
      "execution_count": null,
      "metadata": {
        "id": "qNgqo_KrGJKE"
      },
      "outputs": [],
      "source": [
        "# Create a new Model\n",
        "gen = Generator().to(device)\n",
        "disc = Discriminator().to(device)\n",
        "\n",
        "gen_opt = torch.optim.Adam(gen.parameters(), lr=lr)\n",
        "disc_opt = torch.optim.Adam(disc.parameters(), lr=lr)"
      ]
    },
    {
      "cell_type": "code",
      "execution_count": null,
      "metadata": {
        "id": "bc3Ae5W0RciQ"
      },
      "outputs": [],
      "source": [
        "cur_step = 0"
      ]
    },
    {
      "cell_type": "code",
      "execution_count": null,
      "metadata": {
        "id": "9nPHxEKHs1aR"
      },
      "outputs": [],
      "source": [
        "lepoch = 0"
      ]
    },
    {
      "cell_type": "code",
      "execution_count": null,
      "metadata": {
        "id": "IEXboEuB6-vw"
      },
      "outputs": [],
      "source": [
        "mean_generator_loss = 0\n",
        "mean_discriminator_loss = 0\n",
        "for epoch in range(n_epochs):\n",
        "    if epoch % 5 == 0:\n",
        "        torch.save(disc.state_dict(), PATH_CHECKPOINTS_DISC+f'/disc_{epoch}.pth')\n",
        "        torch.save(gen.state_dict(), PATH_CHECKPOINTS_GEN+f'/gen_{epoch}.pth')\n",
        "    for inputdata, targetdata in tqdm(dataloader):\n",
        "        disc_opt.zero_grad()\n",
        "        fake = gen(inputdata)\n",
        "        o_fake = disc(inputdata, fake)\n",
        "        o_real = disc(inputdata, targetdata)\n",
        "        disc_loss = get_disc_loss(criterion, o_real, o_fake)\n",
        "        disc_loss.backward(retain_graph=True)\n",
        "        disc_opt.step()\n",
        "\n",
        "        gen_opt.zero_grad()\n",
        "        fake = gen(inputdata)\n",
        "        o_fake = disc(inputdata, fake)\n",
        "        o_real = disc(inputdata, targetdata)\n",
        "        gen_loss = get_gen_loss(criterion, o_real, o_fake, targetdata, fake, LAMBDA)\n",
        "        gen_loss.backward()\n",
        "        gen_opt.step()\n",
        "        \n",
        "        mean_discriminator_loss += disc_loss.item() / display_step\n",
        "        mean_generator_loss += gen_loss.item() / display_step\n",
        "\n",
        "        if  (cur_step) % display_step == 0 and cur_step > 0:\n",
        "            print(f\"Step {cur_step}: Generator loss: {mean_generator_loss}, discriminator loss: {mean_discriminator_loss}\")\n",
        "            plot_epoch(inputdata[0][0], fake[0][0], targetdata[0][0], True, cur_step)\n",
        "            mean_generator_loss = 0\n",
        "            mean_discriminator_loss = 0\n",
        "        cur_step += 1"
      ]
    },
    {
      "cell_type": "code",
      "execution_count": null,
      "metadata": {
        "colab": {
          "base_uri": "https://localhost:8080/",
          "height": 248
        },
        "id": "b4kHi4MJ67CU",
        "outputId": "7264e71f-f3c2-4c5a-ce78-cb8d335a4e2b"
      },
      "outputs": [
        {
          "data": {
            "image/png": "[encoded data removed]",
            "text/plain": [
              "<Figure size 432x288 with 1 Axes>"
            ]
          },
          "metadata": {
            "needs_background": "light"
          },
          "output_type": "display_data"
        }
      ],
      "source": [
        "x1 = torch.stack([models_x[3],])\n",
        "x = gen(x1)\n",
        "\n",
        "x1 = x1[0][0].detach().cpu().numpy() > 0\n",
        "x = x[0][0].detach().cpu().numpy() > 0\n",
        "\n",
        "ax = plt.figure().add_subplot(projection='3d')\n",
        "ax.voxels(x1 , facecolors='gray')\n",
        "ax.voxels(x&~x1 , facecolors='lime')\n",
        "plt.show()"
      ]
    },
    {
      "cell_type": "code",
      "execution_count": null,
      "metadata": {
        "id": "sub4SSixM6jg"
      },
      "outputs": [],
      "source": [
        "torch.save(disc.state_dict(), PATH + 'disc.pth')\n",
        "torch.save(gen.state_dict(), PATH + 'gen.pth')"
      ]
    }
  ],
  "metadata": {
    "accelerator": "GPU",
    "colab": {
      "provenance": []
    },
    "gpuClass": "standard",
    "kernelspec": {
      "display_name": "Python 3.10.8 64-bit",
      "language": "python",
      "name": "python3"
    },
    "language_info": {
      "name": "python",
      "version": "3.10.8"
    },
    "vscode": {
      "interpreter": {
        "hash": "e7370f93d1d0cde622a1f8e1c04877d8463912d04d973331ad4851f04de6915a"
      }
    }
  },
  "nbformat": 4,
  "nbformat_minor": 0
}
